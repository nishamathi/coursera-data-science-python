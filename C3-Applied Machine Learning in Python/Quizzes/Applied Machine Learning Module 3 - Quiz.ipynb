{
 "cells": [
  {
   "cell_type": "markdown",
   "metadata": {},
   "source": [
    "## Applied Machine Learning in Python - Week 3 Quiz"
   ]
  },
  {
   "cell_type": "markdown",
   "metadata": {},
   "source": [
    "### Precision-Recall Curve"
   ]
  },
  {
   "cell_type": "code",
   "execution_count": null,
   "metadata": {},
   "outputs": [],
   "source": [
    "from sklearn.metrics import precision_recall_curve\n",
    "lr = LogisticRegression(C=1.0, class_weight=None, dual=False, fit_intercept=True,\n",
    "intercept_scaling=1, max_iter=100, multi_class='ovr', n_jobs=1,\n",
    "penalty='l2', random_state=None, solver='liblinear', tol=0.0001,\n",
    "verbose=0, warm_start=False)\n",
    "y_scores_lr = lr.fit(X_train, y_train).decision_function(X_test)\n",
    "precision, recall, thresholds = precision_recall_curve(y_test, y_scores_lr)\n",
    "closest_zero = np.argmin(np.abs(thresholds))\n",
    "closest_zero_p = precision[closest_zero]\n",
    "closest_zero_r = recall[closest_zero]\n",
    "plt.figure()\n",
    "plt.xlim([0.0, 1.01])\n",
    "plt.ylim([0.0, 1.01])\n",
    "plt.plot(recall, precision, label='Precision-Recall Curve')\n",
    "plt.plot(closest_zero_p, closest_zero_r, 'o', markersize = 12, fillstyle = 'none', c='r', mew=3)\n",
    "plt.xlabel('Precision', fontsize=16)\n",
    "plt.ylabel('Recall', fontsize=16)\n",
    "plt.axes().set_aspect('equal')\n",
    "plt.show()"
   ]
  },
  {
   "cell_type": "markdown",
   "metadata": {},
   "source": [
    "### Micro Precision Score"
   ]
  },
  {
   "cell_type": "code",
   "execution_count": null,
   "metadata": {},
   "outputs": [],
   "source": [
    "print(m)\n",
    "svm = SVC(C=1.0, cache_size=200, class_weight=None, coef0=0.0,\n",
    "decision_function_shape=None, degree=3, gamma='auto', kernel='rbf',\n",
    "max_iter=-1, probability=False, random_state=None, shrinking=True,\n",
    "tol=0.001, verbose=False).fit(X_train, y_train)\n",
    "y_predict = svm.predict(X_test)\n",
    "print(precision_score(y_test,y_predict, average='micro'))\n",
    "#help(precision_score)"
   ]
  },
  {
   "cell_type": "markdown",
   "metadata": {},
   "source": [
    "### Grid Search - Optimize for Recall\n",
    "#### Recall - Precision"
   ]
  },
  {
   "cell_type": "code",
   "execution_count": null,
   "metadata": {},
   "outputs": [],
   "source": [
    "grid_values = {'C':[0.01, 0.1, 1, 10],'gamma': [0.01, 0.1, 1, 10], 'kernel': ['rbf']}\n",
    "grid_clf_acc = GridSearchCV(m, param_grid = grid_values, scoring='recall')\n",
    "grid_clf_acc.fit(X_train, y_train)\n",
    "y_pred_recall = grid_clf_acc.predict(X_test)\n",
    "print('Recall: {:.3f}'.format(recall_score(y_test, y_pred_recall)))\n",
    "print('Precision: {:.3f}'.format(precision_score(y_test, y_pred_recall)))"
   ]
  },
  {
   "cell_type": "markdown",
   "metadata": {},
   "source": [
    "### Grid Search - Optimize for Precision\n",
    "#### Precision - Recall"
   ]
  },
  {
   "cell_type": "code",
   "execution_count": null,
   "metadata": {},
   "outputs": [],
   "source": [
    "grid_values = {'C':[0.01, 0.1, 1, 10],'gamma': [0.01, 0.1, 1, 10], 'kernel': ['rbf']}\n",
    "grid_clf_acc = GridSearchCV(m, param_grid = grid_values, scoring='precision')\n",
    "grid_clf_acc.fit(X_train, y_train)\n",
    "y_pred_recall = grid_clf_acc.predict(X_test)\n",
    "print('Recall: {:.3f}'.format(recall_score(y_test, y_pred_recall)))\n",
    "print('Precision: {:.3f}'.format(precision_score(y_test, y_pred_recall)))"
   ]
  }
 ],
 "metadata": {
  "kernelspec": {
   "display_name": "Python 3",
   "language": "python",
   "name": "python3"
  },
  "language_info": {
   "codemirror_mode": {
    "name": "ipython",
    "version": 3
   },
   "file_extension": ".py",
   "mimetype": "text/x-python",
   "name": "python",
   "nbconvert_exporter": "python",
   "pygments_lexer": "ipython3",
   "version": "3.6.5"
  }
 },
 "nbformat": 4,
 "nbformat_minor": 2
}
